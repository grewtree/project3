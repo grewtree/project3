{
 "cells": [
  {
   "cell_type": "markdown",
   "metadata": {},
   "source": [
    "## sql query를 통한 data set 전처리\n",
    "\n",
    "\n",
    "SELECT u.loc, u.year, u.month, u.unemployment, k.kospi , i.interest, r.rate, o.oilprice, p.productprice, c.consumerprice <br>\n",
    "FROM unemployment u, kospi k , interest i , rate r, oilprice o, productprice p, consumerprice c <br>\n",
    "WHERE (u.year = k.year) and (u.month = k.month) and (i.year = u.year) and (i.month = u.month) and (u.month = r.month) and (u.year = r.year) and (r.year = o.year) and (r.month = o.month) and (o.month = p.month) and (o.year = p.year) and ( p.year = c.year ) and (p.month = c.month)"
   ]
  },
  {
   "cell_type": "markdown",
   "metadata": {},
   "source": []
  },
  {
   "cell_type": "markdown",
   "metadata": {},
   "source": []
  }
 ],
 "metadata": {
  "language_info": {
   "name": "python"
  },
  "orig_nbformat": 4
 },
 "nbformat": 4,
 "nbformat_minor": 2
}
